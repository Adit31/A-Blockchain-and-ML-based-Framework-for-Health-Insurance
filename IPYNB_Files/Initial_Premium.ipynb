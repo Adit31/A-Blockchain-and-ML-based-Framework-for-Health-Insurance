{
  "nbformat": 4,
  "nbformat_minor": 0,
  "metadata": {
    "kernelspec": {
      "display_name": "Python 3",
      "language": "python",
      "name": "python3"
    },
    "language_info": {
      "codemirror_mode": {
        "name": "ipython",
        "version": 3
      },
      "file_extension": ".py",
      "mimetype": "text/x-python",
      "name": "python",
      "nbconvert_exporter": "python",
      "pygments_lexer": "ipython3",
      "version": "3.7.3"
    },
    "colab": {
      "name": "Premium_Final.ipynb",
      "provenance": []
    },
    "accelerator": "GPU"
  },
  "cells": [
    {
      "cell_type": "code",
      "metadata": {
        "id": "Z5VQLdNGDFou",
        "colab": {
          "base_uri": "https://localhost:8080/"
        },
        "outputId": "eee779c1-7638-4127-8973-3d2d3e04d18b"
      },
      "source": [
        "import pandas as pd\n",
        "import numpy as np\n",
        "from sklearn import preprocessing\n",
        "from sklearn.model_selection import train_test_split\n",
        "from sklearn.linear_model import Ridge\n",
        "from sklearn.model_selection import GridSearchCV\n",
        "from sklearn.preprocessing import PolynomialFeatures\n",
        "from sklearn.metrics import r2_score\n",
        "from sklearn.metrics import mean_squared_error\n",
        "from sklearn.metrics import mean_absolute_error\n",
        "import matplotlib.pyplot as plt\n",
        "import seaborn as sns\n",
        "\n",
        "df = pd.read_csv('insurance.csv')\n",
        "print(df.head())"
      ],
      "execution_count": 206,
      "outputs": [
        {
          "output_type": "stream",
          "text": [
            "   age     sex     bmi  children smoker     region      charges\n",
            "0   19  female  27.900         0    yes  southwest  16884.92400\n",
            "1   18    male  33.770         1     no  southeast   1725.55230\n",
            "2   28    male  33.000         3     no  southeast   4449.46200\n",
            "3   33    male  22.705         0     no  northwest  21984.47061\n",
            "4   32    male  28.880         0     no  northwest   3866.85520\n"
          ],
          "name": "stdout"
        }
      ]
    },
    {
      "cell_type": "code",
      "metadata": {
        "id": "Lf3BIkOuDFoz",
        "colab": {
          "base_uri": "https://localhost:8080/"
        },
        "outputId": "3901d049-0f1b-4bea-8d0a-2de2ca46bbd3"
      },
      "source": [
        "df_reg = df.select_dtypes(include=['object']).copy()\n",
        "print(df_reg.head())"
      ],
      "execution_count": 46,
      "outputs": [
        {
          "output_type": "stream",
          "text": [
            "      sex smoker     region\n",
            "0  female    yes  southwest\n",
            "1    male     no  southeast\n",
            "2    male     no  southeast\n",
            "3    male     no  northwest\n",
            "4    male     no  northwest\n"
          ],
          "name": "stdout"
        }
      ]
    },
    {
      "cell_type": "code",
      "metadata": {
        "colab": {
          "base_uri": "https://localhost:8080/"
        },
        "id": "Fgw-bPz2DFo1",
        "outputId": "d880937b-ce32-471c-d763-8f58ac4f3895"
      },
      "source": [
        "labels_region = df_reg['region'].astype('category').cat.categories.tolist()\n",
        "labels_smoker = df_reg['smoker'].astype('category').cat.categories.tolist()\n",
        "labels_sex = df_reg['sex'].astype('category').cat.categories.tolist()\n",
        "\n",
        "replace_region_comp = {'region' : {k: v for k,v in zip(labels_region,list(range(1,len(labels_region)+1)))}}\n",
        "replace_smoker_comp = {'smoker' : {k: v for k,v in zip(labels_smoker,list(range(1,len(labels_smoker)+1)))}}\n",
        "replace_sex_comp = {'sex' : {k: v for k,v in zip(labels_sex,list(range(1,len(labels_sex)+1)))}}\n",
        "\n",
        "print(replace_region_comp)\n",
        "print(replace_smoker_comp)\n",
        "print(replace_sex_comp)\n",
        "\n",
        "df_reg_replace=df_reg.copy()\n",
        "\n",
        "df_reg_replace.replace(replace_region_comp, inplace=True)\n",
        "df_reg_replace.replace(replace_smoker_comp, inplace=True)\n",
        "df_reg_replace.replace(replace_sex_comp, inplace=True)\n",
        "\n",
        "df=df.drop(['sex', 'smoker', 'region'],axis=1)\n",
        "\n",
        "df=df.join(df_reg_replace)"
      ],
      "execution_count": 47,
      "outputs": [
        {
          "output_type": "stream",
          "text": [
            "{'region': {'northeast': 1, 'northwest': 2, 'southeast': 3, 'southwest': 4}}\n",
            "{'smoker': {'no': 1, 'yes': 2}}\n",
            "{'sex': {'female': 1, 'male': 2}}\n"
          ],
          "name": "stdout"
        }
      ]
    },
    {
      "cell_type": "code",
      "metadata": {
        "colab": {
          "base_uri": "https://localhost:8080/",
          "height": 206
        },
        "id": "qTSD8aTlDFo5",
        "outputId": "bf078068-71ab-4eb5-a916-f9bbc69c5ae7"
      },
      "source": [
        "df.head()"
      ],
      "execution_count": 48,
      "outputs": [
        {
          "output_type": "execute_result",
          "data": {
            "text/html": [
              "<div>\n",
              "<style scoped>\n",
              "    .dataframe tbody tr th:only-of-type {\n",
              "        vertical-align: middle;\n",
              "    }\n",
              "\n",
              "    .dataframe tbody tr th {\n",
              "        vertical-align: top;\n",
              "    }\n",
              "\n",
              "    .dataframe thead th {\n",
              "        text-align: right;\n",
              "    }\n",
              "</style>\n",
              "<table border=\"1\" class=\"dataframe\">\n",
              "  <thead>\n",
              "    <tr style=\"text-align: right;\">\n",
              "      <th></th>\n",
              "      <th>age</th>\n",
              "      <th>bmi</th>\n",
              "      <th>children</th>\n",
              "      <th>charges</th>\n",
              "      <th>sex</th>\n",
              "      <th>smoker</th>\n",
              "      <th>region</th>\n",
              "    </tr>\n",
              "  </thead>\n",
              "  <tbody>\n",
              "    <tr>\n",
              "      <th>0</th>\n",
              "      <td>19</td>\n",
              "      <td>27.900</td>\n",
              "      <td>0</td>\n",
              "      <td>16884.92400</td>\n",
              "      <td>1</td>\n",
              "      <td>2</td>\n",
              "      <td>4</td>\n",
              "    </tr>\n",
              "    <tr>\n",
              "      <th>1</th>\n",
              "      <td>18</td>\n",
              "      <td>33.770</td>\n",
              "      <td>1</td>\n",
              "      <td>1725.55230</td>\n",
              "      <td>2</td>\n",
              "      <td>1</td>\n",
              "      <td>3</td>\n",
              "    </tr>\n",
              "    <tr>\n",
              "      <th>2</th>\n",
              "      <td>28</td>\n",
              "      <td>33.000</td>\n",
              "      <td>3</td>\n",
              "      <td>4449.46200</td>\n",
              "      <td>2</td>\n",
              "      <td>1</td>\n",
              "      <td>3</td>\n",
              "    </tr>\n",
              "    <tr>\n",
              "      <th>3</th>\n",
              "      <td>33</td>\n",
              "      <td>22.705</td>\n",
              "      <td>0</td>\n",
              "      <td>21984.47061</td>\n",
              "      <td>2</td>\n",
              "      <td>1</td>\n",
              "      <td>2</td>\n",
              "    </tr>\n",
              "    <tr>\n",
              "      <th>4</th>\n",
              "      <td>32</td>\n",
              "      <td>28.880</td>\n",
              "      <td>0</td>\n",
              "      <td>3866.85520</td>\n",
              "      <td>2</td>\n",
              "      <td>1</td>\n",
              "      <td>2</td>\n",
              "    </tr>\n",
              "  </tbody>\n",
              "</table>\n",
              "</div>"
            ],
            "text/plain": [
              "   age     bmi  children      charges  sex  smoker  region\n",
              "0   19  27.900         0  16884.92400    1       2       4\n",
              "1   18  33.770         1   1725.55230    2       1       3\n",
              "2   28  33.000         3   4449.46200    2       1       3\n",
              "3   33  22.705         0  21984.47061    2       1       2\n",
              "4   32  28.880         0   3866.85520    2       1       2"
            ]
          },
          "metadata": {
            "tags": []
          },
          "execution_count": 48
        }
      ]
    },
    {
      "cell_type": "code",
      "metadata": {
        "id": "moQd6HTgDFo6"
      },
      "source": [
        "#Normalizing\n",
        "normalized_df = df\n",
        "normalized_df[df.columns] = pd.DataFrame(preprocessing.MinMaxScaler().fit_transform(df[df.columns]))"
      ],
      "execution_count": 67,
      "outputs": []
    },
    {
      "cell_type": "code",
      "metadata": {
        "colab": {
          "base_uri": "https://localhost:8080/",
          "height": 206
        },
        "id": "hBkuY7x8051Z",
        "outputId": "8514b62c-4278-44b3-8515-b1a4efe6015a"
      },
      "source": [
        "normalized_df.head()"
      ],
      "execution_count": 68,
      "outputs": [
        {
          "output_type": "execute_result",
          "data": {
            "text/html": [
              "<div>\n",
              "<style scoped>\n",
              "    .dataframe tbody tr th:only-of-type {\n",
              "        vertical-align: middle;\n",
              "    }\n",
              "\n",
              "    .dataframe tbody tr th {\n",
              "        vertical-align: top;\n",
              "    }\n",
              "\n",
              "    .dataframe thead th {\n",
              "        text-align: right;\n",
              "    }\n",
              "</style>\n",
              "<table border=\"1\" class=\"dataframe\">\n",
              "  <thead>\n",
              "    <tr style=\"text-align: right;\">\n",
              "      <th></th>\n",
              "      <th>age</th>\n",
              "      <th>bmi</th>\n",
              "      <th>children</th>\n",
              "      <th>charges</th>\n",
              "      <th>sex</th>\n",
              "      <th>smoker</th>\n",
              "      <th>region</th>\n",
              "    </tr>\n",
              "  </thead>\n",
              "  <tbody>\n",
              "    <tr>\n",
              "      <th>0</th>\n",
              "      <td>0.021739</td>\n",
              "      <td>0.321227</td>\n",
              "      <td>0.0</td>\n",
              "      <td>0.251611</td>\n",
              "      <td>0.0</td>\n",
              "      <td>1.0</td>\n",
              "      <td>1.000000</td>\n",
              "    </tr>\n",
              "    <tr>\n",
              "      <th>1</th>\n",
              "      <td>0.000000</td>\n",
              "      <td>0.479150</td>\n",
              "      <td>0.2</td>\n",
              "      <td>0.009636</td>\n",
              "      <td>1.0</td>\n",
              "      <td>0.0</td>\n",
              "      <td>0.666667</td>\n",
              "    </tr>\n",
              "    <tr>\n",
              "      <th>2</th>\n",
              "      <td>0.217391</td>\n",
              "      <td>0.458434</td>\n",
              "      <td>0.6</td>\n",
              "      <td>0.053115</td>\n",
              "      <td>1.0</td>\n",
              "      <td>0.0</td>\n",
              "      <td>0.666667</td>\n",
              "    </tr>\n",
              "    <tr>\n",
              "      <th>3</th>\n",
              "      <td>0.326087</td>\n",
              "      <td>0.181464</td>\n",
              "      <td>0.0</td>\n",
              "      <td>0.333010</td>\n",
              "      <td>1.0</td>\n",
              "      <td>0.0</td>\n",
              "      <td>0.333333</td>\n",
              "    </tr>\n",
              "    <tr>\n",
              "      <th>4</th>\n",
              "      <td>0.304348</td>\n",
              "      <td>0.347592</td>\n",
              "      <td>0.0</td>\n",
              "      <td>0.043816</td>\n",
              "      <td>1.0</td>\n",
              "      <td>0.0</td>\n",
              "      <td>0.333333</td>\n",
              "    </tr>\n",
              "  </tbody>\n",
              "</table>\n",
              "</div>"
            ],
            "text/plain": [
              "        age       bmi  children   charges  sex  smoker    region\n",
              "0  0.021739  0.321227       0.0  0.251611  0.0     1.0  1.000000\n",
              "1  0.000000  0.479150       0.2  0.009636  1.0     0.0  0.666667\n",
              "2  0.217391  0.458434       0.6  0.053115  1.0     0.0  0.666667\n",
              "3  0.326087  0.181464       0.0  0.333010  1.0     0.0  0.333333\n",
              "4  0.304348  0.347592       0.0  0.043816  1.0     0.0  0.333333"
            ]
          },
          "metadata": {
            "tags": []
          },
          "execution_count": 68
        }
      ]
    },
    {
      "cell_type": "code",
      "metadata": {
        "id": "6molI3q8DFo7"
      },
      "source": [
        "X=normalized_df.drop(columns=['charges'])\n",
        "y = normalized_df.iloc[:, 3]"
      ],
      "execution_count": 69,
      "outputs": []
    },
    {
      "cell_type": "code",
      "metadata": {
        "id": "PTcWytc5DFo7"
      },
      "source": [
        "X_train, X_test, y_train, y_test = train_test_split(X, y, test_size=0.25, random_state=0)"
      ],
      "execution_count": 70,
      "outputs": []
    },
    {
      "cell_type": "code",
      "metadata": {
        "id": "BC06zO2gDFo7"
      },
      "source": [
        "#INTERACTION TERMS\n",
        "poly = PolynomialFeatures(degree=7, interaction_only = False, include_bias = True)\n",
        "X_poly_train=poly.fit_transform(X_train)\n",
        "X_poly_test=poly.fit_transform(X_test)"
      ],
      "execution_count": 120,
      "outputs": []
    },
    {
      "cell_type": "code",
      "metadata": {
        "scrolled": true,
        "colab": {
          "base_uri": "https://localhost:8080/"
        },
        "id": "G0HvsJbiDFo8",
        "outputId": "6e1b3fc4-ca40-4398-d87e-0610519349ca"
      },
      "source": [
        "#Ridge Regression\n",
        "ridge=Ridge()\n",
        "parameters={'alpha':[1e-2, 3e-2, 0.07, 0.09, 1e-1, 1, 3, 4]}\n",
        "ridge_regressor=GridSearchCV(ridge, parameters, scoring = 'neg_mean_squared_error', cv = 3)\n",
        "ridge_regressor.fit(X_poly_train,y_train)"
      ],
      "execution_count": 183,
      "outputs": [
        {
          "output_type": "execute_result",
          "data": {
            "text/plain": [
              "GridSearchCV(cv=3, error_score=nan,\n",
              "             estimator=Ridge(alpha=1.0, copy_X=True, fit_intercept=True,\n",
              "                             max_iter=None, normalize=False, random_state=None,\n",
              "                             solver='auto', tol=0.001),\n",
              "             iid='deprecated', n_jobs=None,\n",
              "             param_grid={'alpha': [0.01, 0.03, 0.07, 0.09, 0.1, 1, 3, 4]},\n",
              "             pre_dispatch='2*n_jobs', refit=True, return_train_score=False,\n",
              "             scoring='neg_mean_squared_error', verbose=0)"
            ]
          },
          "metadata": {
            "tags": []
          },
          "execution_count": 183
        }
      ]
    },
    {
      "cell_type": "code",
      "metadata": {
        "colab": {
          "base_uri": "https://localhost:8080/"
        },
        "id": "65Ar5wKFim62",
        "outputId": "38d33d1c-68d6-454a-f858-e263ddecc0cd"
      },
      "source": [
        "ridge_regressor.best_score_"
      ],
      "execution_count": 184,
      "outputs": [
        {
          "output_type": "execute_result",
          "data": {
            "text/plain": [
              "-0.0066690919122624525"
            ]
          },
          "metadata": {
            "tags": []
          },
          "execution_count": 184
        }
      ]
    },
    {
      "cell_type": "code",
      "metadata": {
        "colab": {
          "base_uri": "https://localhost:8080/"
        },
        "id": "ssxtf3Crc7fK",
        "outputId": "dc284642-f34e-4ed6-9ce1-99f3794013a8"
      },
      "source": [
        "ridge_regressor.best_params_"
      ],
      "execution_count": 185,
      "outputs": [
        {
          "output_type": "execute_result",
          "data": {
            "text/plain": [
              "{'alpha': 3}"
            ]
          },
          "metadata": {
            "tags": []
          },
          "execution_count": 185
        }
      ]
    },
    {
      "cell_type": "code",
      "metadata": {
        "scrolled": true,
        "colab": {
          "base_uri": "https://localhost:8080/",
          "height": 351
        },
        "id": "pJYB9m6vDFpA",
        "outputId": "893942e6-bfdf-499c-857c-318d977454f3"
      },
      "source": [
        "#DistPlot - Train\n",
        "\n",
        "prediction_ridge=ridge_regressor.predict(X_poly_train)\n",
        "\n",
        "sns.distplot(y_train-prediction_ridge, axlabel='Premiums')"
      ],
      "execution_count": 186,
      "outputs": [
        {
          "output_type": "stream",
          "text": [
            "/usr/local/lib/python3.7/dist-packages/seaborn/distributions.py:2557: FutureWarning: `distplot` is a deprecated function and will be removed in a future version. Please adapt your code to use either `displot` (a figure-level function with similar flexibility) or `histplot` (an axes-level function for histograms).\n",
            "  warnings.warn(msg, FutureWarning)\n"
          ],
          "name": "stderr"
        },
        {
          "output_type": "execute_result",
          "data": {
            "text/plain": [
              "<matplotlib.axes._subplots.AxesSubplot at 0x7f79c5bb6150>"
            ]
          },
          "metadata": {
            "tags": []
          },
          "execution_count": 186
        },
        {
          "output_type": "display_data",
          "data": {
            "image/png": "[encoded data removed]",
            "text/plain": [
              "<Figure size 432x288 with 1 Axes>"
            ]
          },
          "metadata": {
            "tags": [],
            "needs_background": "light"
          }
        }
      ]
    },
    {
      "cell_type": "code",
      "metadata": {
        "colab": {
          "base_uri": "https://localhost:8080/",
          "height": 351
        },
        "id": "eSMQb9q_DFpA",
        "outputId": "a75b438f-b26e-4cc4-f514-ee0472f245db"
      },
      "source": [
        "#DistPlot - Test\n",
        "prediction_ridge=ridge_regressor.predict(X_poly_test)\n",
        "\n",
        "sns.distplot(y_test-prediction_ridge, axlabel='Premiums')"
      ],
      "execution_count": 187,
      "outputs": [
        {
          "output_type": "stream",
          "text": [
            "/usr/local/lib/python3.7/dist-packages/seaborn/distributions.py:2557: FutureWarning: `distplot` is a deprecated function and will be removed in a future version. Please adapt your code to use either `displot` (a figure-level function with similar flexibility) or `histplot` (an axes-level function for histograms).\n",
            "  warnings.warn(msg, FutureWarning)\n"
          ],
          "name": "stderr"
        },
        {
          "output_type": "execute_result",
          "data": {
            "text/plain": [
              "<matplotlib.axes._subplots.AxesSubplot at 0x7f79c5b61a10>"
            ]
          },
          "metadata": {
            "tags": []
          },
          "execution_count": 187
        },
        {
          "output_type": "display_data",
          "data": {
            "image/png": "[encoded data removed]",
            "text/plain": [
              "<Figure size 432x288 with 1 Axes>"
            ]
          },
          "metadata": {
            "tags": [],
            "needs_background": "light"
          }
        }
      ]
    },
    {
      "cell_type": "code",
      "metadata": {
        "id": "YU0CXSQbDFpE"
      },
      "source": [
        "#Train, Test scores\n",
        "predict_train = ridge_regressor.predict(X_poly_train)\n",
        "predict_test = prediction_ridge\n",
        "r2scores=[r2_score(y_train, predict_train), r2_score(y_test, predict_test)]\n",
        "rmse=[mean_squared_error(y_train, predict_train, squared = False), \n",
        "      mean_squared_error(y_test, predict_test, squared = False)]\n",
        "mae=[mean_absolute_error(y_train, predict_train), mean_absolute_error(y_test, predict_test)]"
      ],
      "execution_count": 202,
      "outputs": []
    },
    {
      "cell_type": "code",
      "metadata": {
        "id": "r-QjcqcMDFpE"
      },
      "source": [
        "dataset = pd.DataFrame(list(zip(r2scores,rmse,mae)), columns=['R2','RMSE','MAE'])"
      ],
      "execution_count": 203,
      "outputs": []
    },
    {
      "cell_type": "code",
      "metadata": {
        "colab": {
          "base_uri": "https://localhost:8080/",
          "height": 112
        },
        "id": "485aQTacDFpE",
        "outputId": "3efd7981-4d2b-4a2c-e43b-3e1bdff08ec4"
      },
      "source": [
        "dataset"
      ],
      "execution_count": 204,
      "outputs": [
        {
          "output_type": "execute_result",
          "data": {
            "text/html": [
              "<div>\n",
              "<style scoped>\n",
              "    .dataframe tbody tr th:only-of-type {\n",
              "        vertical-align: middle;\n",
              "    }\n",
              "\n",
              "    .dataframe tbody tr th {\n",
              "        vertical-align: top;\n",
              "    }\n",
              "\n",
              "    .dataframe thead th {\n",
              "        text-align: right;\n",
              "    }\n",
              "</style>\n",
              "<table border=\"1\" class=\"dataframe\">\n",
              "  <thead>\n",
              "    <tr style=\"text-align: right;\">\n",
              "      <th></th>\n",
              "      <th>R2</th>\n",
              "      <th>RMSE</th>\n",
              "      <th>MAE</th>\n",
              "    </tr>\n",
              "  </thead>\n",
              "  <tbody>\n",
              "    <tr>\n",
              "      <th>0</th>\n",
              "      <td>0.841672</td>\n",
              "      <td>0.075923</td>\n",
              "      <td>0.045790</td>\n",
              "    </tr>\n",
              "    <tr>\n",
              "      <th>1</th>\n",
              "      <td>0.880886</td>\n",
              "      <td>0.069123</td>\n",
              "      <td>0.046004</td>\n",
              "    </tr>\n",
              "  </tbody>\n",
              "</table>\n",
              "</div>"
            ],
            "text/plain": [
              "         R2      RMSE       MAE\n",
              "0  0.841672  0.075923  0.045790\n",
              "1  0.880886  0.069123  0.046004"
            ]
          },
          "metadata": {
            "tags": []
          },
          "execution_count": 204
        }
      ]
    },
    {
      "cell_type": "code",
      "metadata": {
        "colab": {
          "base_uri": "https://localhost:8080/",
          "height": 269
        },
        "id": "mqri7lqBDFpF",
        "outputId": "558e3b1a-2983-4bfd-dd23-0e6fb1d9cdf9"
      },
      "source": [
        "index = np.arange(2)\n",
        "sets=['Train', 'Test']\n",
        "bar_width = 0.25\n",
        "score_label = np.arange(0, 1.1, 0.1)\n",
        "fig, ax = plt.subplots()\n",
        "barR2 = ax.bar(index-bar_width, r2scores, bar_width, label='R2', color = 'mediumseagreen')\n",
        "barRMSE = ax.bar(index, rmse, bar_width, label='RMSE', color = 'lightcoral')\n",
        "barMAE = ax.bar(index+bar_width, mae, bar_width, label='MAE', color = 'cornflowerblue')\n",
        "ax.set_xticks(index)\n",
        "ax.set_xticklabels(sets)\n",
        "ax.set_yticks(score_label)\n",
        "ax.legend()\n",
        "\n",
        "def insert_data_labels(bars):\n",
        "    for bar in bars:\n",
        "        bar_height=bar.get_height()\n",
        "        ax.annotate('{:.4f}'.format(bar.get_height()), \n",
        "                    xy=(bar.get_x() + bar.get_width()/2, bar_height), \n",
        "                    xytext=(0, 3), textcoords='offset points', ha='center',\n",
        "                    va='bottom')\n",
        "\n",
        "insert_data_labels(barR2)\n",
        "insert_data_labels(barRMSE)\n",
        "insert_data_labels(barMAE)\n",
        "\n",
        "plt.show()"
      ],
      "execution_count": 216,
      "outputs": [
        {
          "output_type": "display_data",
          "data": {
            "image/png": "[encoded data removed]",
            "text/plain": [
              "<Figure size 432x288 with 1 Axes>"
            ]
          },
          "metadata": {
            "tags": [],
            "needs_background": "light"
          }
        }
      ]
    },
    {
      "cell_type": "code",
      "metadata": {
        "id": "dD5O9pj4DFpF"
      },
      "source": [
        ""
      ],
      "execution_count": null,
      "outputs": []
    }
  ]
}
